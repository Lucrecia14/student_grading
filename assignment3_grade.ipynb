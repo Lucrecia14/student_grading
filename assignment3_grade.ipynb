{
  "nbformat": 4,
  "nbformat_minor": 0,
  "metadata": {
    "colab": {
      "name": "assignment3_grade.ipynb",
      "provenance": [],
      "collapsed_sections": [],
      "include_colab_link": true
    },
    "kernelspec": {
      "name": "python3",
      "display_name": "Python 3"
    },
    "language_info": {
      "name": "python"
    }
  },
  "cells": [
    {
      "cell_type": "markdown",
      "metadata": {
        "id": "view-in-github",
        "colab_type": "text"
      },
      "source": [
        "<a href=\"https://colab.research.google.com/github/Lucrecia14/student_grading/blob/main/assignment3_grade.ipynb\" target=\"_parent\"><img src=\"https://colab.research.google.com/assets/colab-badge.svg\" alt=\"Open In Colab\"/></a>"
      ]
    },
    {
      "cell_type": "code",
      "execution_count": null,
      "metadata": {
        "colab": {
          "base_uri": "https://localhost:8080/"
        },
        "id": "FcW88-FZOc1c",
        "outputId": "d4e7ff5c-95c3-4fe2-e081-a41b24835825"
      },
      "outputs": [
        {
          "output_type": "stream",
          "name": "stdout",
          "text": [
            "Enter your score67\n",
            "GRADE: B3\n"
          ]
        }
      ],
      "source": [
        "# Assignment 3\n",
        "# A conditional Statement that gets the grade of a WAEC student and takes inpute from user.\n",
        "score = int(input('Enter your score'))\n",
        "if (score >= 75):\n",
        "  grade = 'A1'\n",
        "elif (score <=74 and score >=70):\n",
        "    grade = 'B2'\n",
        "elif (score <=69 and score >=65):\n",
        "  grade = 'B3'\n",
        "elif (score <=64 and score >=60):\n",
        "  grade = 'C4'\n",
        "elif (score <=59 and score >=55):\n",
        "  grade = 'C5'\n",
        "elif (score <=54 and score >=50):\n",
        "  grade = 'C6'\n",
        "elif (score <=49 and score >=45):\n",
        "  grade = 'D7'\n",
        "elif (score <=44 and score >=40):\n",
        "  grade = 'E8'\n",
        "elif (score <=39 and score >=0):\n",
        "  grade = 'F9'\n",
        "else:\n",
        "    print(\"Score out of grade range\")\n",
        "print('GRADE:',grade)\n",
        "\n"
      ]
    },
    {
      "cell_type": "code",
      "source": [
        ""
      ],
      "metadata": {
        "id": "IllMXkFapS97"
      },
      "execution_count": null,
      "outputs": []
    }
  ]
}